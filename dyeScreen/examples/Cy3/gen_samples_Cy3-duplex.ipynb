{
 "cells": [
  {
   "cell_type": "markdown",
   "metadata": {},
   "source": [
    "# Example of MD sampling in DNA duplex\n",
    "*This notebook runs the code for a pre-optimized Cy3+linker pdb, with previously generated Amber FF files. All files are saved in the cy3_full folder.*\n",
    "\n",
    "*Also shows how the MD runs in an HPC environment can be run*"
   ]
  },
  {
   "cell_type": "code",
   "execution_count": 22,
   "metadata": {},
   "outputs": [
    {
     "name": "stdout",
     "output_type": "stream",
     "text": [
      "The autoreload extension is already loaded. To reload it, use:\n",
      "  %reload_ext autoreload\n"
     ]
    }
   ],
   "source": [
    "%load_ext autoreload\n",
    "%autoreload 2\n",
    "\n",
    "import os\n",
    "import sys\n",
    "# sys.path.append(\"/path/dyeScreen\") # Add package to path\n",
    "\n",
    "import numpy as np\n",
    "import pandas as pd\n",
    "import matplotlib.pyplot as plt\n",
    "\n",
    "from MD.sampling import scan_DNAconfig, gen_leap_nolinker, modify_mol2\n",
    "from MD.md_samples import md_run\n",
    "\n",
    "home = \"path/to/package/dyeScreen/\"  \n",
    "\n",
    "# Amber paths\n",
    "amber_path = \"path/to/amber/AmberTools23/bin/\" # change if different\n",
    "path_parmchk2 = amber_path+\"parmchk2\"\n",
    "\n",
    "# Define input and output files\n",
    "path = home + \"examples/Cy3/cy3_full/\"\n",
    "samples = \"samples/\"\n",
    "\n",
    "leap_out = path + \"tleap_screen.in\"\n",
    "dye_mol2 = \"cy3-link.mol2\"\n",
    "dye_mol2_rewrite = \"cy3-final.mol2\"\n",
    "dye_pdb = path + \"cy3-link.pdb\"\n",
    "DNA_pdb =  home + \"examples/dna_duplex.pdb\"\n",
    "\n",
    "# Info on the dye molecule (can be extracted from the pdb file)\n",
    "dye_name = \"CY3\"\n",
    "# Atom names for the OPO3H group in the linker\n",
    "opo3_1 = ['O1','P1','O4','O8','O7','H37']\n",
    "opo3_2 = ['O2','P2','O3','O5', 'O6', 'H36']\n",
    "\n",
    "# The atom names that participate in the bonding between the dye and DNA \n",
    "attach_cy3 = ['P', \"O5'\"]*2\n",
    "attach_dna = [\"O3'\", \"P\"]*2"
   ]
  },
  {
   "cell_type": "markdown",
   "metadata": {},
   "source": [
    "# Sample dimers in DNA"
   ]
  },
  {
   "cell_type": "markdown",
   "metadata": {},
   "source": [
    "Sample all possible dimers within DNA scaffold"
   ]
  },
  {
   "cell_type": "code",
   "execution_count": null,
   "metadata": {},
   "outputs": [],
   "source": [
    "# Sample only the positions within 12A of separation and include a box of DX-DNA of 20A\n",
    "nsamples = scan_DNAconfig(dye_pdb, DNA_pdb, path+samples, resD=1, resL=None, \n",
    "                          chainDNA=None, dist_min=12, DNABox=20, DNASt=20,\n",
    "                          attachment='double', attach_points=[opo3_1,opo3_2], \n",
    "                          box_type=\"doubleAtt\") "
   ]
  },
  {
   "cell_type": "markdown",
   "metadata": {},
   "source": [
    "Delete and rename atoms from mol2 so they match the pdb file"
   ]
  },
  {
   "cell_type": "code",
   "execution_count": null,
   "metadata": {},
   "outputs": [],
   "source": [
    "modify_mol2([opo3_1, opo3_2], path+dye_mol2, mol2_out=path+dye_mol2_rewrite, \n",
    "            attachment='double', parmchk2=path_parmchk2)"
   ]
  },
  {
   "cell_type": "markdown",
   "metadata": {},
   "source": [
    "Generate input files and run leap "
   ]
  },
  {
   "cell_type": "code",
   "execution_count": null,
   "metadata": {},
   "outputs": [],
   "source": [
    "gen_leap_nolinker(path+\"samples/\", amber_path, attach_cy3, attach_dna,\n",
    "                   path+dye_mol2_rewrite, dye_name=dye_name, wbox=10)"
   ]
  },
  {
   "cell_type": "markdown",
   "metadata": {},
   "source": [
    "# Run MD trajectories (on HPC)"
   ]
  },
  {
   "cell_type": "code",
   "execution_count": null,
   "metadata": {},
   "outputs": [],
   "source": [
    "from MD.md_samples import cpptraj_check\n",
    "\n",
    "path = home + 'examples/Cy3/cy3_full/samples/'\n",
    "amber = \"path/to/amber/AmberTools22\"\n",
    "\n",
    "def prefix(nodes, num, amber_p):\n",
    "    logfile = f'cy3_{num}'\n",
    "    return f'''#!/bin/sh\n",
    "#SBATCH --nodes={nodes}\n",
    "#SBATCH --ntasks={int(32)*nodes}\n",
    "#SBATCH -J {logfile}\n",
    "#SBATCH --output={logfile}.log\n",
    "\n",
    "AMBERPATH=\"{amber_p}\"\n",
    "\n",
    "# Job Submission\n",
    "'''\n",
    "\n",
    "# Check which dimers we actually generated MD input files for\n",
    "# In the case that some of the samples are invalid, leap won't generate rst7 files.\n",
    "i_start, i_end = 0, 80\n",
    "valid_dimers = []\n",
    "for i in range(i_start, i_end+1):\n",
    "    dfile = path+f\"dimer_{i}_clean.rst7\"\n",
    "    if os.path.exists(dfile):\n",
    "        valid_dimers.append(i)\n",
    "print(valid_dimers)       \n",
    "\n",
    "''' \n",
    "# Command to be run on an HPC environment\n",
    "for dimer_num in valid_dimers:\n",
    "    print(dimer_num)\n",
    "    slurm_prefix = prefix(4, dimer_num, amber) \n",
    "    md_run(dimer_num, path, amber_path, sample_frefix='dimer_', pdb=None, param=None, coord=None, \n",
    "            utoff=12.0, edges_rest=10.0,\n",
    "            min_cycles=[2000,2000], eq_runtime=[20,1000], prod_runtime=4000, dt=0.002,\n",
    "            nodes=1, tasks=32, logfile='', \n",
    "            sander_path='srun $AMBERPATH/bin/sander.MPI', slurm_prefix=slurm_prefix)\n",
    "'''"
   ]
  },
  {
   "cell_type": "markdown",
   "metadata": {},
   "source": [
    "Analysis of MD trajectories and QM to be implemented soon!"
   ]
  }
 ],
 "metadata": {
  "kernelspec": {
   "display_name": "md-analysys",
   "language": "python",
   "name": "python3"
  },
  "language_info": {
   "codemirror_mode": {
    "name": "ipython",
    "version": 3
   },
   "file_extension": ".py",
   "mimetype": "text/x-python",
   "name": "python",
   "nbconvert_exporter": "python",
   "pygments_lexer": "ipython3",
   "version": "3.9.13"
  },
  "orig_nbformat": 4
 },
 "nbformat": 4,
 "nbformat_minor": 2
}
